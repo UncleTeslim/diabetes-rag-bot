{
 "cells": [
  {
   "cell_type": "code",
   "execution_count": 1,
   "id": "d4e8b40d",
   "metadata": {},
   "outputs": [],
   "source": [
    "import os\n",
    "from dotenv import load_dotenv\n",
    "from langchain.document_loaders import PyPDFLoader, DirectoryLoader \n",
    "# from langchain_community.document_loaders import "
   ]
  },
  {
   "cell_type": "code",
   "execution_count": 2,
   "id": "03b427f5",
   "metadata": {},
   "outputs": [],
   "source": [
    "def load_file(data):\n",
    "    loader= DirectoryLoader(data,\n",
    "                            glob=\"**/*.pdf\", \n",
    "                            loader_cls=PyPDFLoader)\n",
    "    documents = loader.load()\n",
    "    \n",
    "    return documents"
   ]
  },
  {
   "cell_type": "code",
   "execution_count": 4,
   "id": "ad3f718d",
   "metadata": {},
   "outputs": [],
   "source": [
    "extracted_data= load_file(data = 'data/')"
   ]
  },
  {
   "cell_type": "code",
   "execution_count": null,
   "id": "c16ac3b7",
   "metadata": {},
   "outputs": [],
   "source": [
    "\n",
    "from langchain.text_splitter import RecursiveCharacterTextSplitter\n",
    "\n",
    "def text_splitter(data):\n",
    "    text_splitter = RecursiveCharacterTextSplitter(\n",
    "        chunk_size=500,\n",
    "        chunk_overlap=20,\n",
    "        length_function=len\n",
    "    )\n",
    "    texts_chunks = text_splitter.split_documents(data)\n",
    "    \n",
    "    return texts_chunks"
   ]
  },
  {
   "cell_type": "code",
   "execution_count": null,
   "id": "cff09f31",
   "metadata": {},
   "outputs": [
    {
     "name": "stdout",
     "output_type": "stream",
     "text": [
      "length of texts:  13854\n"
     ]
    }
   ],
   "source": [
    "\n",
    "\n",
    "\n",
    "texts_chunks = text_splitter(data=extracted_data)\n",
    "print(\"length of texts: \", len(texts_chunks))"
   ]
  },
  {
   "cell_type": "code",
   "execution_count": 10,
   "id": "ab3d34e1",
   "metadata": {},
   "outputs": [],
   "source": [
    "from langchain.embeddings import HuggingFaceEmbeddings"
   ]
  },
  {
   "cell_type": "code",
   "execution_count": 11,
   "id": "10ef2341",
   "metadata": {},
   "outputs": [],
   "source": [
    "def download_embeddings():\n",
    "    embeddings = HuggingFaceEmbeddings(\n",
    "        model_name=\"sentence-transformers/all-MiniLM-L6-v2\",\n",
    "        # model_kwargs={\"device\": \"cuda\"}\n",
    "    )\n",
    "    return embeddings"
   ]
  },
  {
   "cell_type": "code",
   "execution_count": 12,
   "id": "6f6ab105",
   "metadata": {},
   "outputs": [
    {
     "name": "stderr",
     "output_type": "stream",
     "text": [
      "C:\\Users\\A\\AppData\\Local\\Temp\\ipykernel_10920\\674309200.py:2: LangChainDeprecationWarning: The class `HuggingFaceEmbeddings` was deprecated in LangChain 0.2.2 and will be removed in 1.0. An updated version of the class exists in the :class:`~langchain-huggingface package and should be used instead. To use it run `pip install -U :class:`~langchain-huggingface` and import as `from :class:`~langchain_huggingface import HuggingFaceEmbeddings``.\n",
      "  embeddings = HuggingFaceEmbeddings(\n",
      "c:\\Users\\A\\anaconda3\\envs\\personal_projects\\lib\\site-packages\\tqdm\\auto.py:21: TqdmWarning: IProgress not found. Please update jupyter and ipywidgets. See https://ipywidgets.readthedocs.io/en/stable/user_install.html\n",
      "  from .autonotebook import tqdm as notebook_tqdm\n"
     ]
    }
   ],
   "source": [
    "embeddings = download_embeddings()"
   ]
  },
  {
   "cell_type": "code",
   "execution_count": 13,
   "id": "c099f4c0",
   "metadata": {},
   "outputs": [
    {
     "name": "stdout",
     "output_type": "stream",
     "text": [
      "384\n"
     ]
    }
   ],
   "source": [
    "query_results = embeddings.embed_query(\"What is the capital of France?\")\n",
    "print(len(query_results))"
   ]
  },
  {
   "cell_type": "code",
   "execution_count": 14,
   "id": "9593df98",
   "metadata": {},
   "outputs": [
    {
     "data": {
      "text/plain": [
       "True"
      ]
     },
     "execution_count": 14,
     "metadata": {},
     "output_type": "execute_result"
    }
   ],
   "source": [
    "load_dotenv()"
   ]
  },
  {
   "cell_type": "code",
   "execution_count": 40,
   "id": "05dfef72",
   "metadata": {},
   "outputs": [],
   "source": [
    "PINECONE_API_KEY = os.getenv(\"PINECONE_API_KEY\")\n",
    "OPENAI_API_KEY = os.getenv(\"OPENAI_API_KEY\")\n"
   ]
  },
  {
   "cell_type": "code",
   "execution_count": 16,
   "id": "4081e7af",
   "metadata": {},
   "outputs": [
    {
     "data": {
      "text/plain": [
       "{\n",
       "    \"name\": \"diabetesbot2\",\n",
       "    \"metric\": \"cosine\",\n",
       "    \"host\": \"diabetesbot2-0i3kp4g.svc.aped-4627-b74a.pinecone.io\",\n",
       "    \"spec\": {\n",
       "        \"serverless\": {\n",
       "            \"cloud\": \"aws\",\n",
       "            \"region\": \"us-east-1\"\n",
       "        }\n",
       "    },\n",
       "    \"status\": {\n",
       "        \"ready\": true,\n",
       "        \"state\": \"Ready\"\n",
       "    },\n",
       "    \"vector_type\": \"dense\",\n",
       "    \"dimension\": 384,\n",
       "    \"deletion_protection\": \"disabled\",\n",
       "    \"tags\": null\n",
       "}"
      ]
     },
     "execution_count": 16,
     "metadata": {},
     "output_type": "execute_result"
    }
   ],
   "source": [
    "\n",
    "from pinecone import Pinecone, ServerlessSpec\n",
    "\n",
    "pc = Pinecone(api_key= PINECONE_API_KEY)\n",
    "\n",
    "\n",
    "index_name =  \"diabetesbot2\"\n",
    "\n",
    "pc.create_index(\n",
    "    name=index_name,\n",
    "    dimension=384, \n",
    "    metric=\"cosine\",\n",
    "    spec=ServerlessSpec(\n",
    "        cloud=\"aws\",\n",
    "        region=\"us-east-1\"\n",
    "    ) \n",
    ")\n"
   ]
  },
  {
   "cell_type": "code",
   "execution_count": 17,
   "id": "f20f52bb",
   "metadata": {},
   "outputs": [],
   "source": [
    "from langchain_pinecone import PineconeVectorStore\n",
    "docsearch = PineconeVectorStore.from_documents(\n",
    "    documents=texts_chunks,\n",
    "    index_name=index_name,\n",
    "    embedding=embeddings,\n",
    ")"
   ]
  },
  {
   "cell_type": "code",
   "execution_count": null,
   "id": "3425ee08",
   "metadata": {},
   "outputs": [],
   "source": [
    "# #Load existing index\n",
    "\n",
    "# from langchain_pinecone import PineconeVectorStore\n",
    "\n",
    "# docsearch = PineconeVectorStore.from_existing_index(\n",
    "#     index_name=index_name,\n",
    "#     embedding=embeddings,\n",
    "# )"
   ]
  },
  {
   "cell_type": "code",
   "execution_count": 18,
   "id": "ff2bb7e6",
   "metadata": {},
   "outputs": [
    {
     "data": {
      "text/plain": [
       "<langchain_pinecone.vectorstores.PineconeVectorStore at 0x2bef0624550>"
      ]
     },
     "execution_count": 18,
     "metadata": {},
     "output_type": "execute_result"
    }
   ],
   "source": [
    "docsearch"
   ]
  },
  {
   "cell_type": "code",
   "execution_count": 19,
   "id": "40af2a93",
   "metadata": {},
   "outputs": [],
   "source": [
    "retriever = docsearch.as_retriever(search_type=\"similarity\",search_kwargs={\"k\": 3})"
   ]
  },
  {
   "cell_type": "code",
   "execution_count": 20,
   "id": "e5fc8126",
   "metadata": {},
   "outputs": [
    {
     "data": {
      "text/plain": [
       "[Document(id='658625e1-254e-450c-8ee0-5314cfd931fa', metadata={'author': 'RICHARD I.G. HOLT', 'creationdate': '2010-04-29T09:54:13+08:00', 'creator': 'Adobe InDesign CS4 (6.0.4)', 'moddate': '2010-04-29T17:22:50+08:00', 'page': 46.0, 'page_label': '25', 'producer': 'Acrobat Distiller 7.0.5 (Windows)', 'source': 'data\\\\allchapters.pdf', 'title': 'Textbook of Diabetes, FOURTH EDITION', 'total_pages': 1141.0}, page_content='with an increased risk of macrovascular disease. \\n The characteristic clinical presentation is with thirst, polyuria, \\nblurring of vision and weight loss. This can lead to ketoacidosis \\nor hyperosmolar non - ketotic coma (see Chapter  19 ). Often, \\nsymptoms are mild or absent and mild hyperglycemia can persist \\nfor years with tissue damage developing, although the person \\nmay be totally asymptomatic.  \\n  Classiﬁ cation \\n There was awareness of different grades of severity of diabetes for'),\n",
       " Document(id='439b5560-68ec-4b8f-8b52-ba5376519d39', metadata={'author': 'RICHARD I.G. HOLT', 'creationdate': '2010-04-29T09:54:13+08:00', 'creator': 'Adobe InDesign CS4 (6.0.4)', 'moddate': '2010-04-29T17:22:50+08:00', 'page': 1005.0, 'page_label': '984', 'producer': 'Acrobat Distiller 7.0.5 (Windows)', 'source': 'data\\\\allchapters.pdf', 'title': 'Textbook of Diabetes, FOURTH EDITION', 'total_pages': 1141.0}, page_content='Textbook of Diabetes, 4th edition. Edited by R. Holt, C. Cockram, \\nA. Flyvbjerg and B. Goldstein. © 2010 Blackwell Publishing.'),\n",
       " Document(id='233e6e73-0227-4210-950a-16f8a1c2cfcf', metadata={'author': 'RICHARD I.G. HOLT', 'creationdate': '2010-04-29T09:54:13+08:00', 'creator': 'Adobe InDesign CS4 (6.0.4)', 'moddate': '2010-04-29T17:22:50+08:00', 'page': 990.0, 'page_label': '969', 'producer': 'Acrobat Distiller 7.0.5 (Windows)', 'source': 'data\\\\allchapters.pdf', 'title': 'Textbook of Diabetes, FOURTH EDITION', 'total_pages': 1141.0}, page_content='Textbook of Diabetes, 4th edition. Edited by R. Holt, C. Cockram, \\nA. Flyvbjerg and B. Goldstein. © 2010 Blackwell Publishing.')]"
      ]
     },
     "execution_count": 20,
     "metadata": {},
     "output_type": "execute_result"
    }
   ],
   "source": [
    "retrieved_docs = retriever.invoke(\"What are the first signs of diabetes?\")\n",
    "retrieved_docs"
   ]
  },
  {
   "cell_type": "code",
   "execution_count": 21,
   "id": "b5689953",
   "metadata": {},
   "outputs": [],
   "source": [
    "from langchain_openai import OpenAI\n",
    "llm = OpenAI(temperature=0.4,max_tokens=500)"
   ]
  },
  {
   "cell_type": "code",
   "execution_count": 33,
   "id": "a48a0552",
   "metadata": {},
   "outputs": [],
   "source": [
    "from langchain.chains import create_retrieval_chain\n",
    "from langchain.chains.combine_documents import create_stuff_documents_chain\n",
    "from langchain.prompts import ChatPromptTemplate\n",
    "\n",
    "system_prompt = (\n",
    "    \"You are a helpful assistant restricted to answering only from the provided context below. \"\n",
    "    \"The topic is diabetes and related health conditions only. Do NOT answer any question unrelated to this topic. \"\n",
    "    \"Do not use any outside knowledge. If the answer is not in the context, say: 'I'm sorry, I don't have that information in the provided material.' \"\n",
    "    \"Be clear, concise, and avoid medical jargon unless it's explained. Use no more than 4 sentences.\\n\\n\"\n",
    "    \"{context}\"\n",
    ")\n",
    "\n",
    "\n",
    "prompt = ChatPromptTemplate.from_messages([\n",
    "    (\"system\", system_prompt),\n",
    "    (\"human\", \"{input}\"),\n",
    "])"
   ]
  },
  {
   "cell_type": "code",
   "execution_count": 34,
   "id": "0e1eb7f9",
   "metadata": {},
   "outputs": [],
   "source": [
    "question_answer_chain = create_stuff_documents_chain(llm, prompt)\n",
    "rag_chain = create_retrieval_chain(retriever, question_answer_chain)"
   ]
  },
  {
   "cell_type": "code",
   "execution_count": 38,
   "id": "3d427f2f",
   "metadata": {},
   "outputs": [
    {
     "name": "stdout",
     "output_type": "stream",
     "text": [
      "\n",
      "\n",
      "Yes, a young person can have diabetes. In fact, studies have shown that children and adolescents with an early onset of diabetes are more likely to experience clinically significant impairment compared to those with a later onset. This age at onset phenomenon has also been reported in adults with juvenile-onset diabetes. Diagnosis is typically made through glucose measurement and the presence of symptoms.\n"
     ]
    }
   ],
   "source": [
    "response = rag_chain.invoke({\"input\": \"can a young oerson have diabetes?\"})\n",
    "print(response[\"answer\"])"
   ]
  },
  {
   "cell_type": "code",
   "execution_count": 39,
   "id": "8209bd32",
   "metadata": {},
   "outputs": [
    {
     "name": "stdout",
     "output_type": "stream",
     "text": [
      "\n",
      "I'm sorry, I don't have that information in the provided material.\n"
     ]
    }
   ],
   "source": [
    "response = rag_chain.invoke({\"input\": \"What is Gay Lussac's law?\"})\n",
    "print(response[\"answer\"])"
   ]
  }
 ],
 "metadata": {
  "kernelspec": {
   "display_name": "personal_projects",
   "language": "python",
   "name": "python3"
  },
  "language_info": {
   "codemirror_mode": {
    "name": "ipython",
    "version": 3
   },
   "file_extension": ".py",
   "mimetype": "text/x-python",
   "name": "python",
   "nbconvert_exporter": "python",
   "pygments_lexer": "ipython3",
   "version": "3.9.21"
  }
 },
 "nbformat": 4,
 "nbformat_minor": 5
}
