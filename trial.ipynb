{
 "cells": [
  {
   "cell_type": "code",
   "execution_count": 1,
   "id": "d4e8b40d",
   "metadata": {},
   "outputs": [],
   "source": [
    "import os\n",
    "from dotenv import load_dotenv\n",
    "from langchain.document_loaders import PyPDFLoader, DirectoryLoader \n",
    "# from langchain_community.document_loaders import "
   ]
  },
  {
   "cell_type": "code",
   "execution_count": 2,
   "id": "03b427f5",
   "metadata": {},
   "outputs": [],
   "source": [
    "def load_file(data):\n",
    "    loader= DirectoryLoader(data,\n",
    "                            glob=\"**/*.pdf\", \n",
    "                            loader_cls=PyPDFLoader)\n",
    "    documents = loader.load()\n",
    "    \n",
    "    return documents"
   ]
  },
  {
   "cell_type": "code",
   "execution_count": 3,
   "id": "ad3f718d",
   "metadata": {},
   "outputs": [],
   "source": [
    "extracted_data= load_file(data = 'data/')"
   ]
  },
  {
   "cell_type": "code",
   "execution_count": 4,
   "id": "c16ac3b7",
   "metadata": {},
   "outputs": [],
   "source": [
    "\n",
    "from langchain.text_splitter import RecursiveCharacterTextSplitter\n",
    "\n",
    "def text_splitter(data):\n",
    "    text_splitter = RecursiveCharacterTextSplitter(\n",
    "        chunk_size=500,\n",
    "        chunk_overlap=20,\n",
    "        length_function=len\n",
    "    )\n",
    "    texts_chunks = text_splitter.split_documents(data)\n",
    "    \n",
    "    return texts_chunks"
   ]
  },
  {
   "cell_type": "code",
   "execution_count": 5,
   "id": "cff09f31",
   "metadata": {},
   "outputs": [
    {
     "name": "stdout",
     "output_type": "stream",
     "text": [
      "length of texts:  14650\n"
     ]
    }
   ],
   "source": [
    "\n",
    "\n",
    "\n",
    "texts_chunks = text_splitter(data=extracted_data)\n",
    "print(\"length of texts: \", len(texts_chunks))"
   ]
  },
  {
   "cell_type": "code",
   "execution_count": 6,
   "id": "ab3d34e1",
   "metadata": {},
   "outputs": [],
   "source": [
    "from langchain.embeddings import HuggingFaceEmbeddings"
   ]
  },
  {
   "cell_type": "code",
   "execution_count": 7,
   "id": "10ef2341",
   "metadata": {},
   "outputs": [],
   "source": [
    "def download_embeddings():\n",
    "    embeddings = HuggingFaceEmbeddings(\n",
    "        model_name=\"sentence-transformers/all-MiniLM-L6-v2\",\n",
    "        # model_kwargs={\"device\": \"cuda\"}\n",
    "    )\n",
    "    return embeddings"
   ]
  },
  {
   "cell_type": "code",
   "execution_count": 8,
   "id": "6f6ab105",
   "metadata": {},
   "outputs": [
    {
     "name": "stderr",
     "output_type": "stream",
     "text": [
      "C:\\Users\\A\\AppData\\Local\\Temp\\ipykernel_31448\\674309200.py:2: LangChainDeprecationWarning: The class `HuggingFaceEmbeddings` was deprecated in LangChain 0.2.2 and will be removed in 1.0. An updated version of the class exists in the :class:`~langchain-huggingface package and should be used instead. To use it run `pip install -U :class:`~langchain-huggingface` and import as `from :class:`~langchain_huggingface import HuggingFaceEmbeddings``.\n",
      "  embeddings = HuggingFaceEmbeddings(\n",
      "c:\\Users\\A\\anaconda3\\envs\\personal_projects\\lib\\site-packages\\tqdm\\auto.py:21: TqdmWarning: IProgress not found. Please update jupyter and ipywidgets. See https://ipywidgets.readthedocs.io/en/stable/user_install.html\n",
      "  from .autonotebook import tqdm as notebook_tqdm\n"
     ]
    }
   ],
   "source": [
    "embeddings = download_embeddings()"
   ]
  },
  {
   "cell_type": "code",
   "execution_count": 9,
   "id": "c099f4c0",
   "metadata": {},
   "outputs": [
    {
     "name": "stdout",
     "output_type": "stream",
     "text": [
      "384\n"
     ]
    }
   ],
   "source": [
    "query_results = embeddings.embed_query(\"What is the capital of France?\")\n",
    "print(len(query_results))"
   ]
  },
  {
   "cell_type": "code",
   "execution_count": 10,
   "id": "9593df98",
   "metadata": {},
   "outputs": [
    {
     "data": {
      "text/plain": [
       "True"
      ]
     },
     "execution_count": 10,
     "metadata": {},
     "output_type": "execute_result"
    }
   ],
   "source": [
    "load_dotenv()"
   ]
  },
  {
   "cell_type": "code",
   "execution_count": 11,
   "id": "05dfef72",
   "metadata": {},
   "outputs": [],
   "source": [
    "PINECONE_API_KEY = os.getenv(\"PINECONE_API_KEY\")\n",
    "OPENAI_API_KEY = os.getenv(\"OPENAI_API_KEY\")\n"
   ]
  },
  {
   "cell_type": "code",
   "execution_count": 13,
   "id": "4081e7af",
   "metadata": {},
   "outputs": [],
   "source": [
    "\n",
    "from pinecone import Pinecone, ServerlessSpec\n",
    "\n",
    "pc = Pinecone(api_key= PINECONE_API_KEY)\n",
    "\n",
    "\n",
    "index_name =  \"diabetesbot\"\n",
    "\n",
    "# pc.create_index(\n",
    "#     name=index_name,\n",
    "#     dimension=384, \n",
    "#     metric=\"cosine\",\n",
    "#     spec=ServerlessSpec(\n",
    "#         cloud=\"aws\",\n",
    "#         region=\"us-east-1\"\n",
    "#     ) \n",
    "# )\n",
    "\n",
    "\n",
    "\n",
    "#Load existing index\n",
    "\n",
    "from langchain_pinecone import PineconeVectorStore\n",
    "\n",
    "docsearch = PineconeVectorStore.from_existing_index(\n",
    "    index_name=index_name,\n",
    "    embedding=embeddings,\n",
    ")"
   ]
  },
  {
   "cell_type": "code",
   "execution_count": 14,
   "id": "f20f52bb",
   "metadata": {},
   "outputs": [],
   "source": [
    "from langchain_pinecone import PineconeVectorStore\n",
    "docsearch = PineconeVectorStore.from_documents(\n",
    "    documents=texts_chunks,\n",
    "    index_name=index_name,\n",
    "    embedding=embeddings,\n",
    ")"
   ]
  },
  {
   "cell_type": "code",
   "execution_count": null,
   "id": "3425ee08",
   "metadata": {},
   "outputs": [],
   "source": [
    "# #Load existing index\n",
    "\n",
    "# from langchain_pinecone import PineconeVectorStore\n",
    "\n",
    "# docsearch = PineconeVectorStore.from_existing_index(\n",
    "#     index_name=index_name,\n",
    "#     embedding=embeddings,\n",
    "# )"
   ]
  },
  {
   "cell_type": "code",
   "execution_count": 21,
   "id": "ff2bb7e6",
   "metadata": {},
   "outputs": [
    {
     "data": {
      "text/plain": [
       "<langchain_pinecone.vectorstores.PineconeVectorStore at 0x153c5a82ee0>"
      ]
     },
     "execution_count": 21,
     "metadata": {},
     "output_type": "execute_result"
    }
   ],
   "source": [
    "docsearch"
   ]
  },
  {
   "cell_type": "code",
   "execution_count": 23,
   "id": "40af2a93",
   "metadata": {},
   "outputs": [],
   "source": [
    "retriever = docsearch.as_retriever(search_type=\"similarity\",search_kwargs={\"k\": 10})"
   ]
  },
  {
   "cell_type": "code",
   "execution_count": 24,
   "id": "e5fc8126",
   "metadata": {},
   "outputs": [
    {
     "data": {
      "text/plain": [
       "[Document(id='baa8d693-d2ef-4e75-a897-8e3567f57ced', metadata={'author': 'RICHARD I.G. HOLT', 'creationdate': '2010-04-29T09:54:13+08:00', 'creator': 'Adobe InDesign CS4 (6.0.4)', 'moddate': '2010-04-29T17:22:50+08:00', 'page': 46.0, 'page_label': '25', 'producer': 'Acrobat Distiller 7.0.5 (Windows)', 'source': 'data\\\\allchapters.pdf', 'title': 'Textbook of Diabetes, FOURTH EDITION', 'total_pages': 1141.0}, page_content='with an increased risk of macrovascular disease. \\n The characteristic clinical presentation is with thirst, polyuria, \\nblurring of vision and weight loss. This can lead to ketoacidosis \\nor hyperosmolar non - ketotic coma (see Chapter  19 ). Often, \\nsymptoms are mild or absent and mild hyperglycemia can persist \\nfor years with tissue damage developing, although the person \\nmay be totally asymptomatic.  \\n  Classiﬁ cation \\n There was awareness of different grades of severity of diabetes for'),\n",
       " Document(id='5d6b5f35-4899-4c28-8f70-844476334e6c', metadata={'author': 'RICHARD I.G. HOLT', 'creationdate': '2010-04-29T09:54:13+08:00', 'creator': 'Adobe InDesign CS4 (6.0.4)', 'moddate': '2010-04-29T17:22:50+08:00', 'page': 46.0, 'page_label': '25', 'producer': 'Acrobat Distiller 7.0.5 (Windows)', 'source': 'data\\\\allchapters.pdf', 'title': 'Textbook of Diabetes, FOURTH EDITION', 'total_pages': 1141.0}, page_content='with an increased risk of macrovascular disease. \\n The characteristic clinical presentation is with thirst, polyuria, \\nblurring of vision and weight loss. This can lead to ketoacidosis \\nor hyperosmolar non - ketotic coma (see Chapter  19 ). Often, \\nsymptoms are mild or absent and mild hyperglycemia can persist \\nfor years with tissue damage developing, although the person \\nmay be totally asymptomatic.  \\n  Classiﬁ cation \\n There was awareness of different grades of severity of diabetes for'),\n",
       " Document(id='350457ad-1aaa-4b4e-b036-d922de2b7950', metadata={'author': 'RICHARD I.G. HOLT', 'creationdate': '2010-04-29T09:54:13+08:00', 'creator': 'Adobe InDesign CS4 (6.0.4)', 'moddate': '2010-04-29T17:22:50+08:00', 'page': 990.0, 'page_label': '969', 'producer': 'Acrobat Distiller 7.0.5 (Windows)', 'source': 'data\\\\allchapters.pdf', 'title': 'Textbook of Diabetes, FOURTH EDITION', 'total_pages': 1141.0}, page_content='Textbook of Diabetes, 4th edition. Edited by R. Holt, C. Cockram, \\nA. Flyvbjerg and B. Goldstein. © 2010 Blackwell Publishing.'),\n",
       " Document(id='20fe7717-c398-4aaf-9008-e3b74f8a3acb', metadata={'author': 'RICHARD I.G. HOLT', 'creationdate': '2010-04-29T09:54:13+08:00', 'creator': 'Adobe InDesign CS4 (6.0.4)', 'moddate': '2010-04-29T17:22:50+08:00', 'page': 880.0, 'page_label': '859', 'producer': 'Acrobat Distiller 7.0.5 (Windows)', 'source': 'data\\\\allchapters.pdf', 'title': 'Textbook of Diabetes, FOURTH EDITION', 'total_pages': 1141.0}, page_content='Textbook of Diabetes, 4th edition. Edited by R. Holt, C. Cockram, \\nA. Flyvbjerg and B. Goldstein. © 2010 Blackwell Publishing.'),\n",
       " Document(id='3a5102db-ce96-497e-81a6-c0ed610337c8', metadata={'author': 'RICHARD I.G. HOLT', 'creationdate': '2010-04-29T09:54:13+08:00', 'creator': 'Adobe InDesign CS4 (6.0.4)', 'moddate': '2010-04-29T17:22:50+08:00', 'page': 980.0, 'page_label': '959', 'producer': 'Acrobat Distiller 7.0.5 (Windows)', 'source': 'data\\\\allchapters.pdf', 'title': 'Textbook of Diabetes, FOURTH EDITION', 'total_pages': 1141.0}, page_content='Textbook of Diabetes, 4th edition. Edited by R. Holt, C. Cockram, \\nA. Flyvbjerg and B. Goldstein. © 2010 Blackwell Publishing.'),\n",
       " Document(id='b2429b04-2b08-4850-85bb-a843eb40b3eb', metadata={'author': 'RICHARD I.G. HOLT', 'creationdate': '2010-04-29T09:54:13+08:00', 'creator': 'Adobe InDesign CS4 (6.0.4)', 'moddate': '2010-04-29T17:22:50+08:00', 'page': 567.0, 'page_label': '546', 'producer': 'Acrobat Distiller 7.0.5 (Windows)', 'source': 'data\\\\allchapters.pdf', 'title': 'Textbook of Diabetes, FOURTH EDITION', 'total_pages': 1141.0}, page_content='Textbook of Diabetes, 4th edition. Edited by R. Holt, C. Cockram, \\nA. Flyvbjerg and B. Goldstein. © 2010 Blackwell Publishing.'),\n",
       " Document(id='14ec03cc-9182-42e0-a5d9-e26de684a962', metadata={'author': 'RICHARD I.G. HOLT', 'creationdate': '2010-04-29T09:54:13+08:00', 'creator': 'Adobe InDesign CS4 (6.0.4)', 'moddate': '2010-04-29T17:22:50+08:00', 'page': 66.0, 'page_label': '45', 'producer': 'Acrobat Distiller 7.0.5 (Windows)', 'source': 'data\\\\allchapters.pdf', 'title': 'Textbook of Diabetes, FOURTH EDITION', 'total_pages': 1141.0}, page_content='Textbook of Diabetes, 4th edition. Edited by R. Holt, C. Cockram, \\nA. Flyvbjerg and B. Goldstein. © 2010 Blackwell Publishing.'),\n",
       " Document(id='df6dd616-66cd-4bb0-8dd5-520494941b55', metadata={'author': 'RICHARD I.G. HOLT', 'creationdate': '2010-04-29T09:54:13+08:00', 'creator': 'Adobe InDesign CS4 (6.0.4)', 'moddate': '2010-04-29T17:22:50+08:00', 'page': 567.0, 'page_label': '546', 'producer': 'Acrobat Distiller 7.0.5 (Windows)', 'source': 'data\\\\allchapters.pdf', 'title': 'Textbook of Diabetes, FOURTH EDITION', 'total_pages': 1141.0}, page_content='Textbook of Diabetes, 4th edition. Edited by R. Holt, C. Cockram, \\nA. Flyvbjerg and B. Goldstein. © 2010 Blackwell Publishing.'),\n",
       " Document(id='481d77ac-1077-41bb-9a46-67894b89843b', metadata={'author': 'RICHARD I.G. HOLT', 'creationdate': '2010-04-29T09:54:13+08:00', 'creator': 'Adobe InDesign CS4 (6.0.4)', 'moddate': '2010-04-29T17:22:50+08:00', 'page': 1005.0, 'page_label': '984', 'producer': 'Acrobat Distiller 7.0.5 (Windows)', 'source': 'data\\\\allchapters.pdf', 'title': 'Textbook of Diabetes, FOURTH EDITION', 'total_pages': 1141.0}, page_content='Textbook of Diabetes, 4th edition. Edited by R. Holt, C. Cockram, \\nA. Flyvbjerg and B. Goldstein. © 2010 Blackwell Publishing.'),\n",
       " Document(id='27c6dcbb-a09e-4d68-9fd1-fe3514fd1a8f', metadata={'author': 'RICHARD I.G. HOLT', 'creationdate': '2010-04-29T09:54:13+08:00', 'creator': 'Adobe InDesign CS4 (6.0.4)', 'moddate': '2010-04-29T17:22:50+08:00', 'page': 1005.0, 'page_label': '984', 'producer': 'Acrobat Distiller 7.0.5 (Windows)', 'source': 'data\\\\allchapters.pdf', 'title': 'Textbook of Diabetes, FOURTH EDITION', 'total_pages': 1141.0}, page_content='Textbook of Diabetes, 4th edition. Edited by R. Holt, C. Cockram, \\nA. Flyvbjerg and B. Goldstein. © 2010 Blackwell Publishing.')]"
      ]
     },
     "execution_count": 24,
     "metadata": {},
     "output_type": "execute_result"
    }
   ],
   "source": [
    "retrieved_docs = retriever.invoke(\"What are the first signs of diabetes?\")\n",
    "retrieved_docs"
   ]
  },
  {
   "cell_type": "code",
   "execution_count": 25,
   "id": "b5689953",
   "metadata": {},
   "outputs": [],
   "source": [
    "from langchain_openai import OpenAI\n",
    "llm = OpenAI(temperature=0.4,max_tokens=500)"
   ]
  },
  {
   "cell_type": "code",
   "execution_count": 32,
   "id": "a48a0552",
   "metadata": {},
   "outputs": [],
   "source": [
    "from langchain.chains import create_retrieval_chain\n",
    "from langchain.chains.combine_documents import create_stuff_documents_chain\n",
    "from langchain.prompts import ChatPromptTemplate\n",
    "\n",
    "system_prompt = (\n",
    "    \"You are a helpful assistant restricted to answering only from the provided context below. \"\n",
    "    \"The topic is diabetes and related health conditions only. Do NOT answer any question unrelated to this topic. \"\n",
    "    \"Do not use any outside knowledge. If the answer is not in the context, say: 'I'm sorry, I don't have that information in the provided material.' \"\n",
    "    \"Be clear, concise, and avoid medical jargon unless it's explained.\"\n",
    "    \"Use bullet points if necessary. \"\n",
    "    \"Use references and sources available from the context when possible. For example, 'According to [source], ...' \"\n",
    "    \"If the question is a yes/no question, provide a short answer and then elaborate with context. \"\n",
    "    \"If the question is not clear, ask for clarification. \"\n",
    "    \"Use no more than 10 sentences.\\n\\n\"\n",
    "    \"{context}\"\n",
    ")\n",
    "\n",
    "\n",
    "prompt = ChatPromptTemplate.from_messages([\n",
    "    (\"system\", system_prompt),\n",
    "    (\"human\", \"{input}\"),\n",
    "])"
   ]
  },
  {
   "cell_type": "code",
   "execution_count": 33,
   "id": "0e1eb7f9",
   "metadata": {},
   "outputs": [],
   "source": [
    "question_answer_chain = create_stuff_documents_chain(llm, prompt)\n",
    "rag_chain = create_retrieval_chain(retriever, question_answer_chain)"
   ]
  },
  {
   "cell_type": "code",
   "execution_count": 34,
   "id": "3d427f2f",
   "metadata": {},
   "outputs": [
    {
     "name": "stdout",
     "output_type": "stream",
     "text": [
      "\n",
      "\n",
      "Yes, diabetic women can have babies, but the risk of complications and birth defects is higher compared to non-diabetic women. It is important for diabetic women to closely monitor their blood sugar levels and maintain good glycemic control during pregnancy to reduce the risk of complications for both the mother and the baby. It is also recommended for diabetic women to receive preconception care and work closely with their healthcare team during pregnancy. \n"
     ]
    }
   ],
   "source": [
    "response = rag_chain.invoke({\"input\": \"can diabetic people have babies?\"})\n",
    "print(response[\"answer\"])"
   ]
  },
  {
   "cell_type": "code",
   "execution_count": 35,
   "id": "8209bd32",
   "metadata": {},
   "outputs": [
    {
     "name": "stdout",
     "output_type": "stream",
     "text": [
      "\n",
      "\n",
      "Yes, climate change can affect diabetes. According to the International Diabetes Federation, changes in climate can lead to disruptions in diet and fluid intake, which can impact diabetes control. Additionally, climate change can also lead to an increase in infectious diseases, which can worsen diabetes. Source: [Affairs (Project Hope) 2006; 25: 1053 – 1060]\n"
     ]
    }
   ],
   "source": [
    "response = rag_chain.invoke({\"input\": \"does climate change affect diabetes? just say yes or no and give sources\"})\n",
    "print(response[\"answer\"])"
   ]
  }
 ],
 "metadata": {
  "kernelspec": {
   "display_name": "personal_projects",
   "language": "python",
   "name": "python3"
  },
  "language_info": {
   "codemirror_mode": {
    "name": "ipython",
    "version": 3
   },
   "file_extension": ".py",
   "mimetype": "text/x-python",
   "name": "python",
   "nbconvert_exporter": "python",
   "pygments_lexer": "ipython3",
   "version": "3.9.21"
  }
 },
 "nbformat": 4,
 "nbformat_minor": 5
}
